{
  "cells": [
    {
      "cell_type": "markdown",
      "metadata": {
        "id": "LpAUjnffjB6U"
      },
      "source": [
        "### Importing needed libaries"
      ]
    },
    {
      "cell_type": "code",
      "execution_count": null,
      "metadata": {
        "id": "C4LGIZw-iu4H"
      },
      "outputs": [],
      "source": [
        "import numpy as np\n",
        "import torch\n",
        "import matplotlib.pyplot as plt\n",
        "import os\n",
        "import numpy as np\n",
        "import torch.nn as nn\n",
        "from torch.nn import functional as F"
      ]
    },
    {
      "cell_type": "markdown",
      "metadata": {
        "id": "T4PSkr0DjXxQ"
      },
      "source": [
        "### Download data"
      ]
    },
    {
      "cell_type": "code",
      "execution_count": null,
      "metadata": {
        "id": "CJxatSHPqZBb"
      },
      "outputs": [],
      "source": [
        "!wget --no-check-certificate 'https://www.dropbox.com/scl/fi/kkrfmiskhap3rxvh6vv8b/pb3_train.txt?rlkey=13xaop0af6c7xhhwtpzfimuqc&dl=0' -O ./data_train.txt\n",
        "\n",
        "with open('data_train.txt', 'r', encoding='utf-8') as f:\n",
        "    text = f.read()"
      ]
    },
    {
      "cell_type": "markdown",
      "metadata": {
        "id": "iejbATFsmb79"
      },
      "source": [
        "### Tokenizer"
      ]
    },
    {
      "cell_type": "code",
      "execution_count": null,
      "metadata": {
        "id": "wAxhlLwammKA"
      },
      "outputs": [],
      "source": [
        "class Tokenizer:\n",
        "    ''' Tokenizer class '''\n",
        "\n",
        "    def __init__(self, vocab):\n",
        "        ''' Initialize tokenizer '''\n",
        "\n",
        "        self.vocab = vocab\n",
        "        self.vocab_size = len(vocab)\n",
        "        self.stoi = { ch:i for i,ch in enumerate(vocab) }\n",
        "        self.itos = { i:ch for i,ch in enumerate(vocab) }\n",
        "        self.encode = lambda s: [self.stoi[c] for c in s]\n",
        "        self.decode = lambda l: ''.join([self.itos[i] for i in l])\n",
        "\n",
        "# Load vocabulary\n",
        "!wget https://raw.githubusercontent.com/karpathy/char-rnn/master/data/tinyshakespeare/input.txt\n",
        "with open('input.txt', 'r', encoding='utf-8') as f:\n",
        "    raw = f.read()\n",
        "vocab = sorted(set(raw))\n",
        "\n",
        "\n",
        "# Create tokenizer\n",
        "tokenizer = Tokenizer(vocab)\n",
        "print('Vocab size:', tokenizer.vocab_size)"
      ]
    },
    {
      "cell_type": "markdown",
      "metadata": {
        "id": "HiehR5uvvaNy"
      },
      "source": [
        "### Hyper-parameters"
      ]
    },
    {
      "cell_type": "code",
      "execution_count": null,
      "metadata": {
        "id": "08VQ0zV3vY-X"
      },
      "outputs": [],
      "source": [
        "# TODO: choose hyper-parameters\n",
        "batch_size = 32 # How many samples to process at each iteration (DO NOT CHANGE)\n",
        "block_size = 128  # Maximum context length (DO NOT CHANGE)\n",
        "max_iters = ... # Maximum number of iterations\n",
        "eval_interval = 100 # How often to evaluate the model\n",
        "learning_rate = ...  # Learning rate\n",
        "device = 'cuda' if torch.cuda.is_available() else 'cpu' # Device (accelerator)\n",
        "eval_iters = 200 # Number of steps to evaluate the model\n",
        "n_embd = ... # Embedding dimension (should be divisible by n_head)\n",
        "n_head = ... # Number of heads\n",
        "n_layer = ... # Number of layers\n",
        "dropout = ... # Dropout probability [0, 1]"
      ]
    },
    {
      "cell_type": "markdown",
      "metadata": {
        "id": "1sdGQmU4uydY"
      },
      "source": [
        "### Train and test splits"
      ]
    },
    {
      "cell_type": "code",
      "execution_count": null,
      "metadata": {
        "id": "pzKoKuWIowk8"
      },
      "outputs": [],
      "source": [
        "''' Data tokenization and splits '''\n",
        "# TODO: complete the code to encode the text by the tokenizer\n",
        "tokenized_text = ...\n",
        "data = torch.tensor(tokenized_text, dtype=torch.long)\n",
        "n = int(0.9*len(data))\n",
        "train_data = data[:n]\n",
        "val_data = data[n:]"
      ]
    },
    {
      "cell_type": "markdown",
      "metadata": {
        "id": "33izXrcFvSCV"
      },
      "source": [
        "### Get batch of data for training"
      ]
    },
    {
      "cell_type": "code",
      "execution_count": null,
      "metadata": {
        "id": "3YN9Qq9svRBG"
      },
      "outputs": [],
      "source": [
        "def get_batch(split):\n",
        "    ''' Generate a small batch of data of inputs x and targets y '''\n",
        "\n",
        "    data = train_data if split == 'train' else val_data\n",
        "    ix = torch.randint(len(data) - block_size, (batch_size,))\n",
        "    x = torch.stack([data[i:i+block_size] for i in ix])\n",
        "    # TODO: complete the code to implement next token prediction by defining y\n",
        "    y = ...\n",
        "    x, y = x.to(device), y.to(device)\n",
        "    return x, y"
      ]
    },
    {
      "cell_type": "markdown",
      "metadata": {
        "id": "pF288Akwv2ZC"
      },
      "source": [
        "### Estimate loss"
      ]
    },
    {
      "cell_type": "code",
      "execution_count": null,
      "metadata": {
        "id": "oYt_xPgavFrC"
      },
      "outputs": [],
      "source": [
        "@torch.no_grad()\n",
        "def estimate_loss():\n",
        "    ''' Estimate loss '''\n",
        "\n",
        "    out = {}\n",
        "    model.eval()\n",
        "    for split in ['train', 'val']:\n",
        "        losses = torch.zeros(eval_iters)\n",
        "        for k in range(eval_iters):\n",
        "            X, Y = get_batch(split)\n",
        "            logits, loss = model(X, Y)\n",
        "            losses[k] = loss.item()\n",
        "        out[split] = losses.mean()\n",
        "    model.train()\n",
        "    return out"
      ]
    },
    {
      "cell_type": "markdown",
      "metadata": {
        "id": "kXY8eTt1wJph"
      },
      "source": [
        "### Transformer Modules"
      ]
    },
    {
      "cell_type": "code",
      "execution_count": null,
      "metadata": {
        "id": "Mjk1N-w8wLjK"
      },
      "outputs": [],
      "source": [
        "class Head(nn.Module):\n",
        "    \"\"\" one head of self-attention \"\"\"\n",
        "\n",
        "    def __init__(self, head_size):\n",
        "        super().__init__()\n",
        "        # TODO: Complete the code by defining the key, query and value as Linear operations without bias\n",
        "        # Hint: dimensions of the linear operations must be n_embd x head_size\n",
        "        self.key = ...\n",
        "        self.query = ...\n",
        "        self.value = ...\n",
        "        self.register_buffer('tril', torch.tril(torch.ones(block_size, block_size)))\n",
        "        self.dropout = nn.Dropout(dropout)\n",
        "\n",
        "    def forward(self, x):\n",
        "        B, T, C = x.shape\n",
        "        # TODO: Transform the input x by apply the key and query operations to get k and q\n",
        "        k = ...\n",
        "        q = ...\n",
        "\n",
        "        # TODO: Implement the scaled self-attention mechanism by multiplying keys and queries\n",
        "        # Hint: scale by multiplying by C ** -0.5 and use .transpose(-2, -1)\n",
        "        A = ...  # (B, T, C) @ (B, C, T) -> (B, T, T)\n",
        "\n",
        "        A = A.masked_fill(self.tril[:T, :T] == 0, float('-inf'))\n",
        "        # TODO: Apply softmax function to A by setting dim=-1\n",
        "        # Hint: use the function F.softmax\n",
        "        A = ...\n",
        "\n",
        "\n",
        "        A = self.dropout(A)\n",
        "        # TODO: transform the input x to get the values\n",
        "        v = ...\n",
        "        # TODO: Multiply values by A to obtain the output\n",
        "        # Hint: the output should have the same shape as input x i.e. (B, T, C)\n",
        "        out = ...\n",
        "        return out\n",
        "\n",
        "class MultiHeadAttention(nn.Module):\n",
        "    \"\"\" multiple heads of self-attention in parallel \"\"\"\n",
        "\n",
        "    def __init__(self, num_heads, head_size):\n",
        "        super().__init__()\n",
        "        self.heads = nn.ModuleList([Head(head_size) for _ in range(num_heads)])\n",
        "        self.proj = nn.Linear(n_embd, n_embd)\n",
        "        self.dropout = nn.Dropout(dropout)\n",
        "\n",
        "    def forward(self, x):\n",
        "        out = torch.cat([h(x) for h in self.heads], dim=-1)\n",
        "        out = self.dropout(self.proj(out))\n",
        "        return out\n",
        "\n",
        "class FeedFoward(nn.Module):\n",
        "    \"\"\" a simple linear layer followed by a non-linearity \"\"\"\n",
        "\n",
        "    def __init__(self, n_embd):\n",
        "        super().__init__()\n",
        "        self.dropout = nn.Dropout(dropout)\n",
        "        self.net = nn.Sequential(\n",
        "            nn.Linear(n_embd, 4 * n_embd),\n",
        "            nn.ReLU(),\n",
        "            nn.Linear(4 * n_embd, n_embd),\n",
        "            nn.Dropout(dropout),\n",
        "        )\n",
        "\n",
        "    def forward(self, x):\n",
        "        return self.net(x)\n",
        "\n",
        "class Block(nn.Module):\n",
        "    \"\"\" Transformer block: communication followed by computation \"\"\"\n",
        "\n",
        "    def __init__(self, n_embd, n_head):\n",
        "        ''' n_embd: embedding dimension, n_head: the number of heads '''\n",
        "\n",
        "        super().__init__()\n",
        "        head_size = n_embd // n_head\n",
        "        self.sa = MultiHeadAttention(n_head, head_size)\n",
        "        self.ffwd = FeedFoward(n_embd)\n",
        "        self.ln1 = nn.LayerNorm(n_embd)\n",
        "        self.ln2 = nn.LayerNorm(n_embd)\n",
        "\n",
        "    def forward(self, x):\n",
        "        # TODO: Implement the forward pass by applying the following operations:\n",
        "        # 1) apply layer norm ln1 to x\n",
        "        # 2) apply self-attention sa to the result in step 1)\n",
        "        # 3) add skip connection by adding the input x to the result in step 2)\n",
        "        x = ...\n",
        "        # TODO: Implement the forward pass by applying the following operations:\n",
        "        # a) apply layer norm ln2 to the result in step 3)\n",
        "        # b) apply feed-forward ffwd to the result in step a)\n",
        "        # c) add skip connection by adding the input x to the result in step b)\n",
        "        x = ...\n",
        "        return x"
      ]
    },
    {
      "cell_type": "markdown",
      "metadata": {
        "id": "XU9zUE6CxJYw"
      },
      "source": [
        "### Transformer Architecture"
      ]
    },
    {
      "cell_type": "code",
      "execution_count": null,
      "metadata": {
        "id": "xZQkZQzTwBKU"
      },
      "outputs": [],
      "source": [
        "class Transformer(nn.Module):\n",
        "    ''' A Transformer model '''\n",
        "\n",
        "    def __init__(self, n_layer):\n",
        "        ''' n_layer: the number of Transformer blocks '''\n",
        "\n",
        "        super().__init__()\n",
        "        self.token_embedding_table = nn.Embedding(tokenizer.vocab_size, n_embd)\n",
        "        self.position_embedding_table = nn.Embedding(block_size, n_embd)\n",
        "        self.blocks = nn.Sequential(*[Block(n_embd, n_head=n_head) for _ in range(n_layer)])\n",
        "        self.ln_f = nn.LayerNorm(n_embd)\n",
        "        self.lm_head = nn.Linear(n_embd, tokenizer.vocab_size)\n",
        "\n",
        "    def forward(self, idx, targets=None):\n",
        "        B, T = idx.shape\n",
        "        # TODO: define tok_emb by applying token_embedding_table to the input idx\n",
        "        tok_emb = ...\n",
        "        pos_emb = self.position_embedding_table(torch.arange(T, device=device))\n",
        "        # TODO: add tok_emb and pos_emb to get x\n",
        "        x = ...\n",
        "        # TODO: apply the blocks to get the output\n",
        "        x = ...\n",
        "        x = self.ln_f(x)\n",
        "        logits = self.lm_head(x)\n",
        "\n",
        "        if targets is None:\n",
        "            loss = None\n",
        "        else:\n",
        "            B, T, C = logits.shape\n",
        "            logits = logits.view(B*T, C)\n",
        "            targets = targets.view(B*T)\n",
        "            # TODO: compute the cross entropy loss\n",
        "            loss = ...\n",
        "\n",
        "        return logits, loss"
      ]
    },
    {
      "cell_type": "markdown",
      "metadata": {
        "id": "9DL4KNNjxkVS"
      },
      "source": [
        "### Define model"
      ]
    },
    {
      "cell_type": "code",
      "execution_count": null,
      "metadata": {
        "id": "XDwQF-G4xfVk"
      },
      "outputs": [],
      "source": [
        "model = Transformer(n_layer=n_layer)"
      ]
    },
    {
      "cell_type": "markdown",
      "metadata": {
        "id": "Qe7byAtOxroO"
      },
      "source": [
        "### Training loop"
      ]
    },
    {
      "cell_type": "code",
      "execution_count": null,
      "metadata": {
        "id": "TPjiGAXoxpTF"
      },
      "outputs": [],
      "source": [
        "m = model.to(device)\n",
        "print(sum(p.numel() for p in m.parameters())/1e6, 'M parameters')\n",
        "\n",
        "optimizer = torch.optim.AdamW(model.parameters(), lr=learning_rate)\n",
        "val_loss = []\n",
        "for iter in range(max_iters):\n",
        "\n",
        "    if iter % eval_interval == 0 or iter == max_iters - 1:\n",
        "        losses = estimate_loss()\n",
        "        print(f\"step {iter}: train loss {losses['train']:.4f}, val loss {losses['val']:.4f}\")\n",
        "        val_loss.append(losses['val'])\n",
        "\n",
        "    # TODO: get a batch of training samples by calling the function get_batch\n",
        "    xb, yb = ...\n",
        "    logits, loss = model(xb, yb)\n",
        "    optimizer.zero_grad(set_to_none=True)\n",
        "    # TODO: backpropagate on the loss\n",
        "    ...\n",
        "    optimizer.step()"
      ]
    },
    {
      "cell_type": "code",
      "execution_count": null,
      "metadata": {
        "id": "HYtRVdAMzMLK"
      },
      "outputs": [],
      "source": [
        "# plot validation loss\n",
        "plt.plot(val_loss)\n",
        "plt.xlabel('step')\n",
        "plt.ylabel('val loss')\n",
        "plt.show()"
      ]
    },
    {
      "cell_type": "code",
      "source": [
        "# Save final model checkpoint and architecture\n",
        "torch.save(model, 'model.pth')"
      ],
      "metadata": {
        "id": "230AVF18J5-t"
      },
      "execution_count": null,
      "outputs": []
    }
  ],
  "metadata": {
    "accelerator": "GPU",
    "colab": {
      "gpuType": "T4",
      "provenance": []
    },
    "kernelspec": {
      "display_name": "Python 3 (ipykernel)",
      "language": "python",
      "name": "python3"
    },
    "language_info": {
      "codemirror_mode": {
        "name": "ipython",
        "version": 3
      },
      "file_extension": ".py",
      "mimetype": "text/x-python",
      "name": "python",
      "nbconvert_exporter": "python",
      "pygments_lexer": "ipython3",
      "version": "3.11.5"
    }
  },
  "nbformat": 4,
  "nbformat_minor": 0
}