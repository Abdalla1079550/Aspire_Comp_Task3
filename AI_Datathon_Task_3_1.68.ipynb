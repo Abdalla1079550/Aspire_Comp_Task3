{
  "cells": [
    {
      "cell_type": "markdown",
      "metadata": {
        "id": "LpAUjnffjB6U"
      },
      "source": [
        "### Importing needed libaries"
      ]
    },
    {
      "cell_type": "code",
      "execution_count": 49,
      "metadata": {
        "id": "C4LGIZw-iu4H"
      },
      "outputs": [],
      "source": [
        "import numpy as np\n",
        "import torch\n",
        "import matplotlib.pyplot as plt\n",
        "import os\n",
        "import numpy as np\n",
        "import torch.nn as nn\n",
        "from torch.nn import functional as F"
      ]
    },
    {
      "cell_type": "markdown",
      "metadata": {
        "id": "T4PSkr0DjXxQ"
      },
      "source": [
        "### Download data"
      ]
    },
    {
      "cell_type": "code",
      "execution_count": 50,
      "metadata": {
        "id": "CJxatSHPqZBb",
        "colab": {
          "base_uri": "https://localhost:8080/"
        },
        "outputId": "611c42a2-a9fb-4fdf-c417-91b35d03ebab"
      },
      "outputs": [
        {
          "output_type": "stream",
          "name": "stdout",
          "text": [
            "--2024-03-01 14:06:08--  https://www.dropbox.com/scl/fi/kkrfmiskhap3rxvh6vv8b/pb3_train.txt?rlkey=13xaop0af6c7xhhwtpzfimuqc&dl=0\n",
            "Resolving www.dropbox.com (www.dropbox.com)... 162.125.1.18, 2620:100:6016:18::a27d:112\n",
            "Connecting to www.dropbox.com (www.dropbox.com)|162.125.1.18|:443... connected.\n",
            "HTTP request sent, awaiting response... 302 Found\n",
            "Location: https://uce9acade3c4ef2307b62f5f5fed.dl.dropboxusercontent.com/cd/0/inline/COSprFmPfnM86SMxbLI97VcCexbAWtVntycpME6D3e1FUCIbxXpvSpqtj2HV-ozz3qDceHK303hk5Ktqilw561fTSjBK52_vrjKqznPh0VntPYNnCKviLMgXVAoq9an9z6R9OCFS6WkMJGapfXlczQA5/file# [following]\n",
            "--2024-03-01 14:06:09--  https://uce9acade3c4ef2307b62f5f5fed.dl.dropboxusercontent.com/cd/0/inline/COSprFmPfnM86SMxbLI97VcCexbAWtVntycpME6D3e1FUCIbxXpvSpqtj2HV-ozz3qDceHK303hk5Ktqilw561fTSjBK52_vrjKqznPh0VntPYNnCKviLMgXVAoq9an9z6R9OCFS6WkMJGapfXlczQA5/file\n",
            "Resolving uce9acade3c4ef2307b62f5f5fed.dl.dropboxusercontent.com (uce9acade3c4ef2307b62f5f5fed.dl.dropboxusercontent.com)... 162.125.1.15, 2620:100:6016:15::a27d:10f\n",
            "Connecting to uce9acade3c4ef2307b62f5f5fed.dl.dropboxusercontent.com (uce9acade3c4ef2307b62f5f5fed.dl.dropboxusercontent.com)|162.125.1.15|:443... connected.\n",
            "HTTP request sent, awaiting response... 200 OK\n",
            "Length: 928181 (906K) [text/plain]\n",
            "Saving to: ‘./data_train.txt’\n",
            "\n",
            "./data_train.txt    100%[===================>] 906.43K  --.-KB/s    in 0.04s   \n",
            "\n",
            "2024-03-01 14:06:10 (22.5 MB/s) - ‘./data_train.txt’ saved [928181/928181]\n",
            "\n"
          ]
        }
      ],
      "source": [
        "!wget --no-check-certificate 'https://www.dropbox.com/scl/fi/kkrfmiskhap3rxvh6vv8b/pb3_train.txt?rlkey=13xaop0af6c7xhhwtpzfimuqc&dl=0' -O ./data_train.txt\n",
        "\n",
        "with open('data_train.txt', 'r', encoding='utf-8') as f:\n",
        "    text = f.read()"
      ]
    },
    {
      "cell_type": "markdown",
      "metadata": {
        "id": "iejbATFsmb79"
      },
      "source": [
        "### Tokenizer"
      ]
    },
    {
      "cell_type": "code",
      "execution_count": 51,
      "metadata": {
        "id": "wAxhlLwammKA",
        "colab": {
          "base_uri": "https://localhost:8080/"
        },
        "outputId": "76d7ec73-213b-484f-f5f3-c8435b2d0ba8"
      },
      "outputs": [
        {
          "output_type": "stream",
          "name": "stdout",
          "text": [
            "--2024-03-01 14:06:10--  https://raw.githubusercontent.com/karpathy/char-rnn/master/data/tinyshakespeare/input.txt\n",
            "Resolving raw.githubusercontent.com (raw.githubusercontent.com)... 185.199.108.133, 185.199.110.133, 185.199.109.133, ...\n",
            "Connecting to raw.githubusercontent.com (raw.githubusercontent.com)|185.199.108.133|:443... connected.\n",
            "HTTP request sent, awaiting response... 200 OK\n",
            "Length: 1115394 (1.1M) [text/plain]\n",
            "Saving to: ‘input.txt.4’\n",
            "\n",
            "input.txt.4         100%[===================>]   1.06M  --.-KB/s    in 0.04s   \n",
            "\n",
            "2024-03-01 14:06:10 (26.7 MB/s) - ‘input.txt.4’ saved [1115394/1115394]\n",
            "\n",
            "Vocab size: 65\n"
          ]
        }
      ],
      "source": [
        "class Tokenizer:\n",
        "    ''' Tokenizer class '''\n",
        "\n",
        "    def __init__(self, vocab):\n",
        "        ''' Initialize tokenizer '''\n",
        "\n",
        "        self.vocab = vocab\n",
        "        self.vocab_size = len(vocab)\n",
        "        self.stoi = { ch:i for i,ch in enumerate(vocab) }\n",
        "        self.itos = { i:ch for i,ch in enumerate(vocab) }\n",
        "        self.encode = lambda s: [self.stoi[c] for c in s]\n",
        "        self.decode = lambda l: ''.join([self.itos[i] for i in l])\n",
        "\n",
        "# Load vocabulary\n",
        "!wget https://raw.githubusercontent.com/karpathy/char-rnn/master/data/tinyshakespeare/input.txt\n",
        "with open('input.txt', 'r', encoding='utf-8') as f:\n",
        "    raw = f.read()\n",
        "vocab = sorted(set(raw))\n",
        "\n",
        "\n",
        "# Create tokenizer\n",
        "tokenizer = Tokenizer(vocab)\n",
        "print('Vocab size:', tokenizer.vocab_size)"
      ]
    },
    {
      "cell_type": "markdown",
      "metadata": {
        "id": "HiehR5uvvaNy"
      },
      "source": [
        "### Hyper-parameters"
      ]
    },
    {
      "cell_type": "code",
      "execution_count": 52,
      "metadata": {
        "id": "08VQ0zV3vY-X"
      },
      "outputs": [],
      "source": [
        "# TODO: choose hyper-parameters\n",
        "batch_size = 32 # How many samples to process at each iteration (DO NOT CHANGE)\n",
        "block_size = 128  # Maximum context length (DO NOT CHANGE)\n",
        "max_iters = 3000 # Maximum number of iterations\n",
        "eval_interval = 300 # How often to evaluate the model\n",
        "learning_rate = 0.001  # Learning rate\n",
        "device = 'cuda' if torch.cuda.is_available() else 'cpu' # Device (accelerator)\n",
        "eval_iters = 300 # Number of steps to evaluate the model\n",
        "n_embd = 195   # Embedding dimension (should be divisible by n_head)\n",
        "n_head = 5 # Number of heads\n",
        "n_layer = 5 # Number of layers\n",
        "dropout = 0.15 # Dropout probability [0, 1]"
      ]
    },
    {
      "cell_type": "markdown",
      "metadata": {
        "id": "1sdGQmU4uydY"
      },
      "source": [
        "### Train and test splits"
      ]
    },
    {
      "cell_type": "code",
      "execution_count": 53,
      "metadata": {
        "id": "pzKoKuWIowk8"
      },
      "outputs": [],
      "source": [
        "''' Data tokenization and splits '''\n",
        "# TODO: complete the code to encode the text by the tokenizer\n",
        "# tokenized_text = ...\n",
        "tokenized_text = tokenizer.encode(text)\n",
        "data = torch.tensor(tokenized_text, dtype=torch.long)\n",
        "n = int(0.9*len(data))\n",
        "train_data = data[:n]\n",
        "val_data = data[n:]"
      ]
    },
    {
      "cell_type": "markdown",
      "metadata": {
        "id": "33izXrcFvSCV"
      },
      "source": [
        "### Get batch of data for training"
      ]
    },
    {
      "cell_type": "code",
      "execution_count": 54,
      "metadata": {
        "id": "3YN9Qq9svRBG"
      },
      "outputs": [],
      "source": [
        "def get_batch(split):\n",
        "    ''' Generate a small batch of data of inputs x and targets y '''\n",
        "\n",
        "    data = train_data if split == 'train' else val_data\n",
        "    ix = torch.randint(len(data) - block_size, (batch_size,))\n",
        "    x = torch.stack([data[i:i+block_size] for i in ix])\n",
        "    # TODO: complete the code to implement next token prediction by defining y\n",
        "    # y = ...\n",
        "    y = torch.stack([data[i+1:i+block_size+1] for i in ix])\n",
        "    x, y = x.to(device), y.to(device)\n",
        "    return x, y"
      ]
    },
    {
      "cell_type": "markdown",
      "metadata": {
        "id": "pF288Akwv2ZC"
      },
      "source": [
        "### Estimate loss"
      ]
    },
    {
      "cell_type": "code",
      "execution_count": 55,
      "metadata": {
        "id": "oYt_xPgavFrC"
      },
      "outputs": [],
      "source": [
        "@torch.no_grad()\n",
        "def estimate_loss():\n",
        "    ''' Estimate loss '''\n",
        "\n",
        "    out = {}\n",
        "    model.eval()\n",
        "    for split in ['train', 'val']:\n",
        "        losses = torch.zeros(eval_iters)\n",
        "        for k in range(eval_iters):\n",
        "            X, Y = get_batch(split)\n",
        "            logits, loss = model(X, Y)\n",
        "            losses[k] = loss.item()\n",
        "        out[split] = losses.mean()\n",
        "    model.train()\n",
        "    return out"
      ]
    },
    {
      "cell_type": "markdown",
      "metadata": {
        "id": "kXY8eTt1wJph"
      },
      "source": [
        "### Transformer Modules"
      ]
    },
    {
      "cell_type": "code",
      "execution_count": 56,
      "metadata": {
        "id": "Mjk1N-w8wLjK"
      },
      "outputs": [],
      "source": [
        "class Head(nn.Module):\n",
        "    \"\"\" one head of self-attention \"\"\"\n",
        "\n",
        "    def __init__(self, head_size):\n",
        "        super().__init__()\n",
        "        # TODO: Complete the code by defining the key, query and value as Linear operations without bias\n",
        "        # Hint: dimensions of the linear operations must be n_embd x head_size\n",
        "        # self.key = ...\n",
        "        # self.query = ...\n",
        "        # self.value = ...\n",
        "        self.key = nn.Linear(n_embd, head_size, bias=False)\n",
        "        self.query = nn.Linear(n_embd, head_size, bias=False)\n",
        "        self.value = nn.Linear(n_embd, head_size, bias=False)\n",
        "        self.register_buffer('tril', torch.tril(torch.ones(block_size, block_size)))\n",
        "        self.dropout = nn.Dropout(dropout)\n",
        "\n",
        "    def forward(self, x):\n",
        "        B, T, C = x.shape\n",
        "        # TODO: Transform the input x by apply the key and query operations to get k and q\n",
        "        # k = ...\n",
        "        # q = ...\n",
        "        k = self.key(x)\n",
        "        q = self.query(x)\n",
        "        # TODO: Implement the scaled self-attention mechanism by multiplying keys and queries\n",
        "        # Hint: scale by multiplying by C ** -0.5 and use .transpose(-2, -1)\n",
        "        # A = ...  # (B, T, C) @ (B, C, T) -> (B, T, T)\n",
        "        A = torch.matmul(q, k.transpose(-2, -1)) * (C ** -0.5)\n",
        "\n",
        "        A = A.masked_fill(self.tril[:T, :T] == 0, float('-inf'))\n",
        "        # TODO: Apply softmax function to A by setting dim=-1\n",
        "        # Hint: use the function F.softmax\n",
        "        # A = ...\n",
        "        A = F.softmax(A, dim=-1)\n",
        "\n",
        "\n",
        "        A = self.dropout(A)\n",
        "        # # TODO: transform the input x to get the values\n",
        "        # v = ...\n",
        "        # # TODO: Multiply values by A to obtain the output\n",
        "        # # Hint: the output should have the same shape as input x i.e. (B, T, C)\n",
        "        # out = ...\n",
        "\n",
        "        v = self.value(x)\n",
        "        out = torch.matmul(A, v)\n",
        "        return out\n",
        "\n",
        "class MultiHeadAttention(nn.Module):\n",
        "    \"\"\" multiple heads of self-attention in parallel \"\"\"\n",
        "\n",
        "    def __init__(self, num_heads, head_size):\n",
        "        super().__init__()\n",
        "        self.heads = nn.ModuleList([Head(head_size) for _ in range(num_heads)])\n",
        "        self.proj = nn.Linear(n_embd, n_embd)\n",
        "        self.dropout = nn.Dropout(dropout)\n",
        "\n",
        "    def forward(self, x):\n",
        "        out = torch.cat([h(x) for h in self.heads], dim=-1)\n",
        "        out = self.dropout(self.proj(out))\n",
        "        return out\n",
        "\n",
        "class FeedFoward(nn.Module):\n",
        "    \"\"\" a simple linear layer followed by a non-linearity \"\"\"\n",
        "\n",
        "    def __init__(self, n_embd):\n",
        "        super().__init__()\n",
        "        self.dropout = nn.Dropout(dropout)\n",
        "        self.net = nn.Sequential(\n",
        "            nn.Linear(n_embd, 4 * n_embd),\n",
        "            nn.ReLU(),\n",
        "            nn.Linear(4 * n_embd, n_embd),\n",
        "            nn.Dropout(dropout),\n",
        "        )\n",
        "\n",
        "    def forward(self, x):\n",
        "        return self.net(x)\n",
        "\n",
        "class Block(nn.Module):\n",
        "    \"\"\" Transformer block: communication followed by computation \"\"\"\n",
        "\n",
        "    def __init__(self, n_embd, n_head):\n",
        "        ''' n_embd: embedding dimension, n_head: the number of heads '''\n",
        "\n",
        "        super().__init__()\n",
        "        head_size = n_embd // n_head\n",
        "        self.sa = MultiHeadAttention(n_head, head_size)\n",
        "        self.ffwd = FeedFoward(n_embd)\n",
        "        self.ln1 = nn.LayerNorm(n_embd)\n",
        "        self.ln2 = nn.LayerNorm(n_embd)\n",
        "\n",
        "    def forward(self, x):\n",
        "        # TODO: Implement the forward pass by applying the following operations:\n",
        "        # 1) apply layer norm ln1 to x\n",
        "        # 2) apply self-attention sa to the result in step 1)\n",
        "        # 3) add skip connection by adding the input x to the result in step 2)\n",
        "\n",
        "        # x = ...\n",
        "        # TODO: Implement the forward pass by applying the following operations:\n",
        "        # a) apply layer norm ln2 to the result in step 3)\n",
        "        # b) apply feed-forward ffwd to the result in step a)\n",
        "        # c) add skip connection by adding the input x to the result in step b)\n",
        "        # x = ...\n",
        "        x_ln1 = self.ln1(x)\n",
        "        x_sa = self.sa(x_ln1)\n",
        "        x_skip1 = x + x_sa\n",
        "        x_ln2 = self.ln2(x_skip1)\n",
        "        x_ffwd = self.ffwd(x_ln2)\n",
        "        x = x_skip1 + x_ffwd\n",
        "        return x"
      ]
    },
    {
      "cell_type": "markdown",
      "metadata": {
        "id": "XU9zUE6CxJYw"
      },
      "source": [
        "### Transformer Architecture"
      ]
    },
    {
      "cell_type": "code",
      "execution_count": 57,
      "metadata": {
        "id": "xZQkZQzTwBKU"
      },
      "outputs": [],
      "source": [
        "class Transformer(nn.Module):\n",
        "    ''' A Transformer model '''\n",
        "\n",
        "    def __init__(self, n_layer):\n",
        "        ''' n_layer: the number of Transformer blocks '''\n",
        "\n",
        "        super().__init__()\n",
        "        self.token_embedding_table = nn.Embedding(tokenizer.vocab_size, n_embd)\n",
        "        self.position_embedding_table = nn.Embedding(block_size, n_embd)\n",
        "        self.blocks = nn.Sequential(*[Block(n_embd, n_head=n_head) for _ in range(n_layer)])\n",
        "        self.ln_f = nn.LayerNorm(n_embd)\n",
        "        self.lm_head = nn.Linear(n_embd, tokenizer.vocab_size)\n",
        "\n",
        "    def forward(self, idx, targets=None):\n",
        "        B, T = idx.shape\n",
        "        # TODO: define tok_emb by applying token_embedding_table to the input idx\n",
        "        # tok_emb = ...\n",
        "        tok_emb = self.token_embedding_table(idx)\n",
        "\n",
        "        pos_emb = self.position_embedding_table(torch.arange(T, device=device))\n",
        "        # TODO: add tok_emb and pos_emb to get x\n",
        "        # x = ...\n",
        "        # TODO: apply the blocks to get the output\n",
        "        # x = ...\n",
        "        x = tok_emb + pos_emb\n",
        "        x = self.blocks(x)\n",
        "\n",
        "        x = self.ln_f(x)\n",
        "        logits = self.lm_head(x)\n",
        "\n",
        "        if targets is None:\n",
        "            loss = None\n",
        "        else:\n",
        "            B, T, C = logits.shape\n",
        "            logits = logits.view(B*T, C)\n",
        "            targets = targets.view(B*T)\n",
        "            # TODO: compute the cross entropy loss\n",
        "            # loss = ...\n",
        "            loss = F.cross_entropy(logits, targets)\n",
        "\n",
        "        return logits, loss"
      ]
    },
    {
      "cell_type": "markdown",
      "metadata": {
        "id": "9DL4KNNjxkVS"
      },
      "source": [
        "### Define model"
      ]
    },
    {
      "cell_type": "code",
      "execution_count": 58,
      "metadata": {
        "id": "XDwQF-G4xfVk"
      },
      "outputs": [],
      "source": [
        "model = Transformer(n_layer=n_layer)"
      ]
    },
    {
      "cell_type": "markdown",
      "metadata": {
        "id": "Qe7byAtOxroO"
      },
      "source": [
        "### Training loop"
      ]
    },
    {
      "cell_type": "code",
      "execution_count": 59,
      "metadata": {
        "id": "TPjiGAXoxpTF",
        "colab": {
          "base_uri": "https://localhost:8080/"
        },
        "outputId": "0b391941-ce86-46f1-c050-20eac90fdfa9"
      },
      "outputs": [
        {
          "output_type": "stream",
          "name": "stdout",
          "text": [
            "2.342015 M parameters\n",
            "step 0: train loss 4.3781, val loss 4.3826\n",
            "step 300: train loss 2.1539, val loss 2.2252\n",
            "step 600: train loss 1.8085, val loss 1.9705\n",
            "step 900: train loss 1.6334, val loss 1.8549\n",
            "step 1200: train loss 1.5448, val loss 1.8110\n",
            "step 1500: train loss 1.4850, val loss 1.7607\n",
            "step 1800: train loss 1.4428, val loss 1.7416\n",
            "step 2100: train loss 1.4029, val loss 1.7313\n",
            "step 2400: train loss 1.3779, val loss 1.7085\n",
            "step 2700: train loss 1.3543, val loss 1.6986\n",
            "step 2999: train loss 1.3334, val loss 1.6860\n"
          ]
        }
      ],
      "source": [
        "m = model.to(device)\n",
        "print(sum(p.numel() for p in m.parameters())/1e6, 'M parameters')\n",
        "\n",
        "optimizer = torch.optim.AdamW(model.parameters(), lr=learning_rate)\n",
        "val_loss = []\n",
        "for iter in range(max_iters):\n",
        "\n",
        "    if iter % eval_interval == 0 or iter == max_iters - 1:\n",
        "        losses = estimate_loss()\n",
        "        print(f\"step {iter}: train loss {losses['train']:.4f}, val loss {losses['val']:.4f}\")\n",
        "        val_loss.append(losses['val'])\n",
        "\n",
        "    # TODO: get a batch of training samples by calling the function get_batch\n",
        "    # xb, yb = ...\n",
        "    xb, yb = get_batch('train')\n",
        "    logits, loss = model(xb, yb)\n",
        "    optimizer.zero_grad(set_to_none=True)\n",
        "    # TODO: backpropagate on the loss\n",
        "    # ...\n",
        "    logits, loss = model(xb, yb)\n",
        "    loss.backward()\n",
        "    optimizer.step()"
      ]
    },
    {
      "cell_type": "code",
      "execution_count": 60,
      "metadata": {
        "id": "HYtRVdAMzMLK",
        "colab": {
          "base_uri": "https://localhost:8080/",
          "height": 453
        },
        "outputId": "6f1e471c-158c-441c-e86b-f234287b80fa"
      },
      "outputs": [
        {
          "output_type": "display_data",
          "data": {
            "text/plain": [
              "<Figure size 640x480 with 1 Axes>"
            ],
            "image/png": "[encoded data removed]"
          },
          "metadata": {}
        }
      ],
      "source": [
        "# plot validation loss\n",
        "plt.plot(val_loss)\n",
        "plt.xlabel('step')\n",
        "plt.ylabel('val loss')\n",
        "plt.show()"
      ]
    },
    {
      "cell_type": "code",
      "source": [
        "# Save final model checkpoint and architecture\n",
        "torch.save(model, 'model.pth')"
      ],
      "metadata": {
        "id": "230AVF18J5-t"
      },
      "execution_count": 61,
      "outputs": []
    }
  ],
  "metadata": {
    "accelerator": "GPU",
    "colab": {
      "gpuType": "T4",
      "provenance": []
    },
    "kernelspec": {
      "display_name": "Python 3",
      "name": "python3"
    },
    "language_info": {
      "codemirror_mode": {
        "name": "ipython",
        "version": 3
      },
      "file_extension": ".py",
      "mimetype": "text/x-python",
      "name": "python",
      "nbconvert_exporter": "python",
      "pygments_lexer": "ipython3",
      "version": "3.11.5"
    }
  },
  "nbformat": 4,
  "nbformat_minor": 0
}